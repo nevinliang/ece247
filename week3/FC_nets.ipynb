version https://git-lfs.github.com/spec/v1
oid sha256:e46fecd5866e51c488aac9dc80ba35c8fe2e3a361336fbc6aa590902ca8d1c6c
size 130930
