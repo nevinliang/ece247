version https://git-lfs.github.com/spec/v1
oid sha256:ad8b976e4a7cae147dc31a2e7acb93b52582faa201e704c29cb526d8eb330084
size 79284
