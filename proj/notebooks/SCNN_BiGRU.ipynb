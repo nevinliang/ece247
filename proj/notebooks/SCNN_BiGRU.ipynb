version https://git-lfs.github.com/spec/v1
oid sha256:5a9b0d7e0c2f8e31caac47132dce2644e4c7025d69eb73077a4108de101c8e92
size 84402
