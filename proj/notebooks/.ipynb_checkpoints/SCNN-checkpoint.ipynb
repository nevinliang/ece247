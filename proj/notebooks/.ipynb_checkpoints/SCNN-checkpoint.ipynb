version https://git-lfs.github.com/spec/v1
oid sha256:da078bb8a2900e215f116b9b935b9bc8f2e0087ed8eb2741c89bc1ee925440f3
size 135208
