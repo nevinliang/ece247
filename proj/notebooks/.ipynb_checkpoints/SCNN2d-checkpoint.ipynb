version https://git-lfs.github.com/spec/v1
oid sha256:875d96b4c678f2f184391d7b1d244db5e12bb5de5129863a0b032744780bf70a
size 60539
