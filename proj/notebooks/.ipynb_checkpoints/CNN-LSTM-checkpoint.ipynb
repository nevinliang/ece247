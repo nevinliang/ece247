version https://git-lfs.github.com/spec/v1
oid sha256:7c8a13a6d2c49d9ee7799420aca3f25c46ac240b80ffbacf3d9f32a5892b7a7a
size 68757
