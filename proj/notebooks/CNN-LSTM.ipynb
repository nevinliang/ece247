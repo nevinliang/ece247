version https://git-lfs.github.com/spec/v1
oid sha256:2d4a2522b01d81ec633d2983a3a8909e65e8f6f0f0d399aae393c6ccdbfb03b9
size 74460
