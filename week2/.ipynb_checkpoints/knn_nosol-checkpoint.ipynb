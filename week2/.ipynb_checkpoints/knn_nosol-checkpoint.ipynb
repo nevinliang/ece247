version https://git-lfs.github.com/spec/v1
oid sha256:b201435f3620b2bf31da35cd160e58a4f1574d17e085bb50ad4cf2e04f08c253
size 222699
