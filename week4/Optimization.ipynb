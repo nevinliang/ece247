version https://git-lfs.github.com/spec/v1
oid sha256:4ed6f1b17af8461006e0099e66dea415da4e5224968526712d7e7b163596110a
size 324837
