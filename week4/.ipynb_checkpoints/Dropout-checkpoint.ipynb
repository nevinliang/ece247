version https://git-lfs.github.com/spec/v1
oid sha256:6ffc6ffbff796d8cd34cc9a40ed711a70c1568f428635777ec431b31a97cd393
size 47340
