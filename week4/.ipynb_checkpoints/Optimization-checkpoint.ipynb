version https://git-lfs.github.com/spec/v1
oid sha256:a07351307beb70677bad4bec1219362ada6f3f1a60662dab172c7a3961c766f3
size 313570
