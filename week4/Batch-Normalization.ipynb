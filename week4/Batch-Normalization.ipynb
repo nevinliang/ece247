version https://git-lfs.github.com/spec/v1
oid sha256:b002302d0dc0d34babc4cb4c609620c187f3b91bedb6a65b2ae674b9a8d52d7c
size 213238
