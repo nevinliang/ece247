version https://git-lfs.github.com/spec/v1
oid sha256:b7fe99940cdd23f711990c194c8237ed06224a5002c04194341393e9df933636
size 27258
