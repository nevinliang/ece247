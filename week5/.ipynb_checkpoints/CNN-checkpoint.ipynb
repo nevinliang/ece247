version https://git-lfs.github.com/spec/v1
oid sha256:5d45f6d71c46e70d21b153bf03e21a39a43eeaa0b69ac3be6aa11b89271f7b7f
size 14187
