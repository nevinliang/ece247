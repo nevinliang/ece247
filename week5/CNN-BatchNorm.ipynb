version https://git-lfs.github.com/spec/v1
oid sha256:e6af0f00b920c9ed6ed90f3b132dffa0bacda68a0d203a93b7b3925dceb3597e
size 11913
